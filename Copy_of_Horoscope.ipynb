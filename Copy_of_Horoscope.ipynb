{
  "nbformat": 4,
  "nbformat_minor": 0,
  "metadata": {
    "colab": {
      "name": "Copy of Horoscope.ipynb",
      "provenance": [],
      "collapsed_sections": []
    },
    "kernelspec": {
      "name": "python3",
      "display_name": "Python 3"
    },
    "language_info": {
      "name": "python"
    }
  },
  "cells": [
    {
      "cell_type": "code",
      "metadata": {
        "colab": {
          "base_uri": "https://localhost:8080/"
        },
        "id": "c4-9GC3BUdAV",
        "outputId": "dff05fdd-ffb3-458a-a72b-9de1c7cc943b"
      },
      "source": [
        "# python program to perform astrological sign or Zodiac sign for a given date of birth \n",
        "\n",
        "def Zodiac_sign(day,month):\n",
        "\n",
        "      # check month and date within the valid range of a specified zodiac\n",
        "      if month == 'december':\n",
        "         astro_Sign = 'sagittarius' if (day < 22)  else 'capricon'\n",
        "      elif month == 'january':\n",
        "          astro_sign = 'capricon' if (day < 20) else 'aquarius'\n",
        "      elif month == 'february':\n",
        "          astro_sign = 'Aquarius' if (day < 19) else 'Pisces'\n",
        "      elif month == 'march':\n",
        "          astro_sign = 'pisces' if (day < 21) else 'aries'\n",
        "      elif month == 'April':\n",
        "          astro_sign = 'Aries' if (day < 20) else 'Taurus'\n",
        "      elif month == 'may':\n",
        "          astro_sign = 'Taurus' if (day < 21) else 'gemini'\n",
        "      elif month == 'june':\n",
        "          astro_sign = 'Gemini' if (day < 23) else 'cancer'\n",
        "      elif month == 'july':\n",
        "          astro_sign ='Cancer' if(day < 23) else 'leo'\n",
        "      elif month == 'August':\n",
        "         astro_sign == 'leo' if (day <23) else 'Virgo'\n",
        "      elif month == 'September':\n",
        "          astro_sign == 'Virgo' if (day<23) else 'Libra'\n",
        "      elif month == 'October':\n",
        "          astro_sign == 'Libra' if (day<23) else 'Scorpio'\n",
        "      elif month == 'November':\n",
        "          astro_sign == \"scorpio\" if (day<22) else 'sagittarius'\n",
        "\n",
        "\n",
        "      print(astro_sign) \n",
        "# driver code \n",
        "if __name__ == '__main__':\n",
        "    day = int(input())\n",
        "    month =input()\n",
        "    Zodiac_sign(day,month)\n"
      ],
      "execution_count": null,
      "outputs": [
        {
          "output_type": "stream",
          "text": [
            "20\n",
            "june\n",
            "Gemini\n"
          ],
          "name": "stdout"
        }
      ]
    },
    {
      "cell_type": "code",
      "metadata": {
        "id": "CGf8jjYbUoqK"
      },
      "source": [
        ""
      ],
      "execution_count": null,
      "outputs": []
    },
    {
      "cell_type": "code",
      "metadata": {
        "id": "VN14aCgOU8tY"
      },
      "source": [
        ""
      ],
      "execution_count": null,
      "outputs": []
    }
  ]
}